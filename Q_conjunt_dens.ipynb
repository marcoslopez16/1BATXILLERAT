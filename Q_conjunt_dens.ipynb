{
  "nbformat": 4,
  "nbformat_minor": 0,
  "metadata": {
    "colab": {
      "provenance": [],
      "mount_file_id": "1rdQMH6pNuKjsPe0BA3jSwpabJP3e0Q3u",
      "authorship_tag": "ABX9TyPzGjmShDXqRHRduhqYCKAc",
      "include_colab_link": true
    },
    "kernelspec": {
      "name": "python3",
      "display_name": "Python 3"
    },
    "language_info": {
      "name": "python"
    }
  },
  "cells": [
    {
      "cell_type": "markdown",
      "metadata": {
        "id": "view-in-github",
        "colab_type": "text"
      },
      "source": [
        "<a href=\"https://colab.research.google.com/github/mlacasa/1BATXILLERAT/blob/main/Q_conjunt_dens.ipynb\" target=\"_parent\"><img src=\"https://colab.research.google.com/assets/colab-badge.svg\" alt=\"Open In Colab\"/></a>"
      ]
    },
    {
      "cell_type": "markdown",
      "source": [
        "# $\\mathbb{Q}$ representa el conjunt dels nombres racionals.\n",
        "\n",
        "Un nombre racional es representa per una fracció entre dos nombres que pertànyen al conjunt $\\mathbb{Z}$ dels nombres enters.\\\n",
        "$$\\frac{numerador}{denominador}$$\n",
        "Una **fracció irreductible** representa a un nombre racional i que el numerador i denominador son primers entre sí.\n",
        "\n",
        "## El conjunt $\\mathbb{Q}$ és un cojunt dens.\n",
        "\n",
        "Entre dos nombres racionals, existeixen infinits nombres racionals.\\\n",
        "donats $p \\space i \\space q \\space \\forall \\space p,q \\in \\mathbb{Q}$ existeix un altre nombre $r \\in \\mathbb{Q}$ tal que $p < r < q$.\n",
        "\n",
        "## Pràctica\n",
        "\n",
        "Avaluem els nombres racionals compresos entre $[0,1]$ de manera que calularem el punt mig i crearem altre interval amb $[mig, 1]$.\\\n",
        "\n",
        "### Exemple\n",
        "\n",
        "Pas 1: Interval inicial: $[0,1]$.\\\n",
        "Pas 2: Calcular el punt mig de l'interval.\\\n",
        "  Fórumula: (0 + 1)/2 = mig = 1/2.\\\n",
        "Pas 3: Nou interval : $[1/2 , 1]$\n",
        "Pas 4: Apliquem fórmula Pas 2, i calculem el punt mig del nou interval.\\\n",
        "  Fórmula: (1/2 + 1)/2 = mig = 3/4.\n",
        "\n",
        "\n",
        "![](https://drive.google.com/uc?id=1GpNn5AgbYtYGdWV08hLA_CK0UmY4jYn1)\n",
        "\n",
        "Com afegir una imatge a Markdown a Colaboratory: \\\n",
        "https://medium.com/analytics-vidhya/embedding-your-image-in-google-colab-markdown-3998d5ac2684\n"
      ],
      "metadata": {
        "id": "vwG4PcXk0KBO"
      }
    },
    {
      "cell_type": "code",
      "execution_count": null,
      "metadata": {
        "id": "7YXxK1A70FY0"
      },
      "outputs": [],
      "source": [
        "# Funció que retorna \"loops\" valors mitjants consecutius\n",
        "from fractions import Fraction # Aquesta llibrería conté un métode que permet calcular la fracció irreductible d'un nombre decimal\n",
        "def dens(loops):               # Definim la funció\n",
        "  p = 0                        # Primer interval [0,1] on p = 0\n",
        "  q = 1                        # primer interval on q = 1, i mai canvia.\n",
        "  counter = 0                  # El comptador, per calcular el nombre de cops que es repeteix la funció ... \"loops\"\n",
        "  while counter < loops:       # Condició: Sempre que el comptador no arribi al límit (loops) la funció es repeteix.\n",
        "    m = (p + q)/2              # La fórmula\n",
        "    p = Fraction(m)            # El nou interval, expressat en fracció irreductible.\n",
        "    llista.append(p)           # afegim el resultat al nostre llistat.\n",
        "    counter = counter + 1      # Acaba la volta, i afegim 1 al comptador.\n",
        "  return llista                # Quan acaba el nombre de loops, retornem el resultat de la llista."
      ]
    },
    {
      "cell_type": "code",
      "source": [
        "loops = 20\n",
        "llista = []\n",
        "dens(loops)"
      ],
      "metadata": {
        "colab": {
          "base_uri": "https://localhost:8080/"
        },
        "id": "E8J-4JuB2rS_",
        "outputId": "e506d25a-645f-4ef4-c1b9-e9b2d3c74555"
      },
      "execution_count": null,
      "outputs": [
        {
          "output_type": "execute_result",
          "data": {
            "text/plain": [
              "[Fraction(1, 2),\n",
              " Fraction(3, 4),\n",
              " Fraction(7, 8),\n",
              " Fraction(15, 16),\n",
              " Fraction(31, 32),\n",
              " Fraction(63, 64),\n",
              " Fraction(127, 128),\n",
              " Fraction(255, 256),\n",
              " Fraction(511, 512),\n",
              " Fraction(1023, 1024)]"
            ]
          },
          "metadata": {},
          "execution_count": 27
        }
      ]
    },
    {
      "cell_type": "markdown",
      "source": [
        "## Interpretació de la successió\n",
        "\n",
        "Deduïm que:\n",
        "\n",
        "\n",
        "$a_n = \\frac{2^n -1}{2^n}$"
      ],
      "metadata": {
        "id": "mTpzwrPj89ol"
      }
    },
    {
      "cell_type": "code",
      "source": [
        "# Comprovem la fórmula de la successió.\n",
        "# Proposem càlcul de la posició 9, on la llista representa 511/512.\n",
        "\n",
        "print(Fraction((2**9)-1,2**9)) # Per expressar la potenciació, fem '**' i per la multiplicació fem '*'"
      ],
      "metadata": {
        "colab": {
          "base_uri": "https://localhost:8080/"
        },
        "id": "YA2NMlUx2uRI",
        "outputId": "bbd175af-9f1e-47fc-f5f0-ef0caf5582fa"
      },
      "execution_count": null,
      "outputs": [
        {
          "output_type": "stream",
          "name": "stdout",
          "text": [
            "511/512\n"
          ]
        }
      ]
    }
  ]
}
